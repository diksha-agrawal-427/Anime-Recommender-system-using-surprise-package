{
 "cells": [
  {
   "cell_type": "code",
   "execution_count": 1,
   "metadata": {},
   "outputs": [],
   "source": [
    "# Imorting libraries\n",
    "import pandas as pd\n",
    "import numpy as np\n",
    "import random\n",
    "import statistics"
   ]
  },
  {
   "cell_type": "code",
   "execution_count": 3,
   "metadata": {},
   "outputs": [
    {
     "name": "stdout",
     "output_type": "stream",
     "text": [
      "(12294, 7)\n"
     ]
    },
    {
     "data": {
      "text/html": [
       "<div>\n",
       "<style scoped>\n",
       "    .dataframe tbody tr th:only-of-type {\n",
       "        vertical-align: middle;\n",
       "    }\n",
       "\n",
       "    .dataframe tbody tr th {\n",
       "        vertical-align: top;\n",
       "    }\n",
       "\n",
       "    .dataframe thead th {\n",
       "        text-align: right;\n",
       "    }\n",
       "</style>\n",
       "<table border=\"1\" class=\"dataframe\">\n",
       "  <thead>\n",
       "    <tr style=\"text-align: right;\">\n",
       "      <th></th>\n",
       "      <th>anime_id</th>\n",
       "      <th>name</th>\n",
       "      <th>genre</th>\n",
       "      <th>type</th>\n",
       "      <th>episodes</th>\n",
       "      <th>rating</th>\n",
       "      <th>members</th>\n",
       "    </tr>\n",
       "  </thead>\n",
       "  <tbody>\n",
       "    <tr>\n",
       "      <th>0</th>\n",
       "      <td>32281</td>\n",
       "      <td>Kimi no Na wa.</td>\n",
       "      <td>Drama, Romance, School, Supernatural</td>\n",
       "      <td>Movie</td>\n",
       "      <td>1</td>\n",
       "      <td>9.37</td>\n",
       "      <td>200630</td>\n",
       "    </tr>\n",
       "    <tr>\n",
       "      <th>1</th>\n",
       "      <td>5114</td>\n",
       "      <td>Fullmetal Alchemist: Brotherhood</td>\n",
       "      <td>Action, Adventure, Drama, Fantasy, Magic, Mili...</td>\n",
       "      <td>TV</td>\n",
       "      <td>64</td>\n",
       "      <td>9.26</td>\n",
       "      <td>793665</td>\n",
       "    </tr>\n",
       "    <tr>\n",
       "      <th>2</th>\n",
       "      <td>28977</td>\n",
       "      <td>Gintama°</td>\n",
       "      <td>Action, Comedy, Historical, Parody, Samurai, S...</td>\n",
       "      <td>TV</td>\n",
       "      <td>51</td>\n",
       "      <td>9.25</td>\n",
       "      <td>114262</td>\n",
       "    </tr>\n",
       "    <tr>\n",
       "      <th>3</th>\n",
       "      <td>9253</td>\n",
       "      <td>Steins;Gate</td>\n",
       "      <td>Sci-Fi, Thriller</td>\n",
       "      <td>TV</td>\n",
       "      <td>24</td>\n",
       "      <td>9.17</td>\n",
       "      <td>673572</td>\n",
       "    </tr>\n",
       "    <tr>\n",
       "      <th>4</th>\n",
       "      <td>9969</td>\n",
       "      <td>Gintama&amp;#039;</td>\n",
       "      <td>Action, Comedy, Historical, Parody, Samurai, S...</td>\n",
       "      <td>TV</td>\n",
       "      <td>51</td>\n",
       "      <td>9.16</td>\n",
       "      <td>151266</td>\n",
       "    </tr>\n",
       "  </tbody>\n",
       "</table>\n",
       "</div>"
      ],
      "text/plain": [
       "   anime_id                              name  \\\n",
       "0     32281                    Kimi no Na wa.   \n",
       "1      5114  Fullmetal Alchemist: Brotherhood   \n",
       "2     28977                          Gintama°   \n",
       "3      9253                       Steins;Gate   \n",
       "4      9969                     Gintama&#039;   \n",
       "\n",
       "                                               genre   type episodes  rating  \\\n",
       "0               Drama, Romance, School, Supernatural  Movie        1    9.37   \n",
       "1  Action, Adventure, Drama, Fantasy, Magic, Mili...     TV       64    9.26   \n",
       "2  Action, Comedy, Historical, Parody, Samurai, S...     TV       51    9.25   \n",
       "3                                   Sci-Fi, Thriller     TV       24    9.17   \n",
       "4  Action, Comedy, Historical, Parody, Samurai, S...     TV       51    9.16   \n",
       "\n",
       "   members  \n",
       "0   200630  \n",
       "1   793665  \n",
       "2   114262  \n",
       "3   673572  \n",
       "4   151266  "
      ]
     },
     "execution_count": 3,
     "metadata": {},
     "output_type": "execute_result"
    }
   ],
   "source": [
    "# reading files\n",
    "df_anime = pd.read_csv('anime.csv')\n",
    "print(df_anime.shape)\n",
    "df_anime.head()"
   ]
  },
  {
   "cell_type": "code",
   "execution_count": 4,
   "metadata": {},
   "outputs": [
    {
     "name": "stdout",
     "output_type": "stream",
     "text": [
      "(7813737, 3)\n"
     ]
    },
    {
     "data": {
      "text/html": [
       "<div>\n",
       "<style scoped>\n",
       "    .dataframe tbody tr th:only-of-type {\n",
       "        vertical-align: middle;\n",
       "    }\n",
       "\n",
       "    .dataframe tbody tr th {\n",
       "        vertical-align: top;\n",
       "    }\n",
       "\n",
       "    .dataframe thead th {\n",
       "        text-align: right;\n",
       "    }\n",
       "</style>\n",
       "<table border=\"1\" class=\"dataframe\">\n",
       "  <thead>\n",
       "    <tr style=\"text-align: right;\">\n",
       "      <th></th>\n",
       "      <th>user_id</th>\n",
       "      <th>anime_id</th>\n",
       "      <th>rating</th>\n",
       "    </tr>\n",
       "  </thead>\n",
       "  <tbody>\n",
       "    <tr>\n",
       "      <th>0</th>\n",
       "      <td>1</td>\n",
       "      <td>20</td>\n",
       "      <td>-1</td>\n",
       "    </tr>\n",
       "    <tr>\n",
       "      <th>1</th>\n",
       "      <td>1</td>\n",
       "      <td>24</td>\n",
       "      <td>-1</td>\n",
       "    </tr>\n",
       "    <tr>\n",
       "      <th>2</th>\n",
       "      <td>1</td>\n",
       "      <td>79</td>\n",
       "      <td>-1</td>\n",
       "    </tr>\n",
       "    <tr>\n",
       "      <th>3</th>\n",
       "      <td>1</td>\n",
       "      <td>226</td>\n",
       "      <td>-1</td>\n",
       "    </tr>\n",
       "    <tr>\n",
       "      <th>4</th>\n",
       "      <td>1</td>\n",
       "      <td>241</td>\n",
       "      <td>-1</td>\n",
       "    </tr>\n",
       "  </tbody>\n",
       "</table>\n",
       "</div>"
      ],
      "text/plain": [
       "   user_id  anime_id  rating\n",
       "0        1        20      -1\n",
       "1        1        24      -1\n",
       "2        1        79      -1\n",
       "3        1       226      -1\n",
       "4        1       241      -1"
      ]
     },
     "execution_count": 4,
     "metadata": {},
     "output_type": "execute_result"
    }
   ],
   "source": [
    "df_rating = pd.read_csv('rating.csv')\n",
    "print(df_rating.shape)\n",
    "df_rating.head()"
   ]
  },
  {
   "cell_type": "code",
   "execution_count": 5,
   "metadata": {},
   "outputs": [
    {
     "data": {
      "text/plain": [
       "anime_id      0\n",
       "name          0\n",
       "genre        62\n",
       "type         25\n",
       "episodes      0\n",
       "rating      230\n",
       "members       0\n",
       "dtype: int64"
      ]
     },
     "execution_count": 5,
     "metadata": {},
     "output_type": "execute_result"
    }
   ],
   "source": [
    "# checking if there are any null values in both the dataframes\n",
    "df_anime.isnull().sum()"
   ]
  },
  {
   "cell_type": "code",
   "execution_count": 6,
   "metadata": {},
   "outputs": [
    {
     "data": {
      "text/plain": [
       "user_id     0\n",
       "anime_id    0\n",
       "rating      0\n",
       "dtype: int64"
      ]
     },
     "execution_count": 6,
     "metadata": {},
     "output_type": "execute_result"
    }
   ],
   "source": [
    "df_rating.isnull().sum()"
   ]
  },
  {
   "cell_type": "code",
   "execution_count": 7,
   "metadata": {},
   "outputs": [
    {
     "data": {
      "text/plain": [
       "73515"
      ]
     },
     "execution_count": 7,
     "metadata": {},
     "output_type": "execute_result"
    }
   ],
   "source": [
    "#checking unique anime and user IDs\n",
    "len(df_rating['user_id'].unique())"
   ]
  },
  {
   "cell_type": "code",
   "execution_count": 8,
   "metadata": {},
   "outputs": [
    {
     "data": {
      "text/plain": [
       "11200"
      ]
     },
     "execution_count": 8,
     "metadata": {},
     "output_type": "execute_result"
    }
   ],
   "source": [
    "len(df_rating['anime_id'].unique())"
   ]
  },
  {
   "cell_type": "markdown",
   "metadata": {},
   "source": [
    "##### From the above files, we will only be using df_rating dataframe to build our models"
   ]
  },
  {
   "cell_type": "markdown",
   "metadata": {},
   "source": [
    "# Performing EDA"
   ]
  },
  {
   "cell_type": "code",
   "execution_count": 9,
   "metadata": {},
   "outputs": [
    {
     "data": {
      "text/plain": [
       "106.28765558049378"
      ]
     },
     "execution_count": 9,
     "metadata": {},
     "output_type": "execute_result"
    }
   ],
   "source": [
    "# avg number of anime rated per user\n",
    "ratings_per_user = df_rating.groupby('user_id')['rating'].count()\n",
    "statistics.mean(ratings_per_user.tolist())"
   ]
  },
  {
   "cell_type": "code",
   "execution_count": 10,
   "metadata": {},
   "outputs": [
    {
     "data": {
      "text/plain": [
       "<matplotlib.axes._subplots.AxesSubplot at 0x11ab15710>"
      ]
     },
     "execution_count": 10,
     "metadata": {},
     "output_type": "execute_result"
    },
    {
     "data": {
      "image/png": "[encoded data removed]",
      "text/plain": [
       "<Figure size 432x288 with 1 Axes>"
      ]
     },
     "metadata": {
      "needs_background": "light"
     },
     "output_type": "display_data"
    }
   ],
   "source": [
    "# distribution of ratings per user\n",
    "import matplotlib.pyplot as plt\n",
    "%matplotlib inline\n",
    "ratings_per_user.hist(bins=20, range=(0,500))"
   ]
  },
  {
   "cell_type": "markdown",
   "metadata": {},
   "source": [
    "#### From the above plot it is clear that most of the users have rated less than 500 anime"
   ]
  },
  {
   "cell_type": "code",
   "execution_count": 11,
   "metadata": {},
   "outputs": [
    {
     "data": {
      "text/html": [
       "<div>\n",
       "<style scoped>\n",
       "    .dataframe tbody tr th:only-of-type {\n",
       "        vertical-align: middle;\n",
       "    }\n",
       "\n",
       "    .dataframe tbody tr th {\n",
       "        vertical-align: top;\n",
       "    }\n",
       "\n",
       "    .dataframe thead th {\n",
       "        text-align: right;\n",
       "    }\n",
       "</style>\n",
       "<table border=\"1\" class=\"dataframe\">\n",
       "  <thead>\n",
       "    <tr style=\"text-align: right;\">\n",
       "      <th></th>\n",
       "      <th>user_id</th>\n",
       "      <th>rating</th>\n",
       "    </tr>\n",
       "  </thead>\n",
       "  <tbody>\n",
       "    <tr>\n",
       "      <th>48764</th>\n",
       "      <td>48766</td>\n",
       "      <td>10227</td>\n",
       "    </tr>\n",
       "    <tr>\n",
       "      <th>42634</th>\n",
       "      <td>42635</td>\n",
       "      <td>3747</td>\n",
       "    </tr>\n",
       "    <tr>\n",
       "      <th>53696</th>\n",
       "      <td>53698</td>\n",
       "      <td>2905</td>\n",
       "    </tr>\n",
       "    <tr>\n",
       "      <th>57618</th>\n",
       "      <td>57620</td>\n",
       "      <td>2702</td>\n",
       "    </tr>\n",
       "    <tr>\n",
       "      <th>59641</th>\n",
       "      <td>59643</td>\n",
       "      <td>2633</td>\n",
       "    </tr>\n",
       "    <tr>\n",
       "      <th>51691</th>\n",
       "      <td>51693</td>\n",
       "      <td>2622</td>\n",
       "    </tr>\n",
       "    <tr>\n",
       "      <th>27363</th>\n",
       "      <td>27364</td>\n",
       "      <td>2499</td>\n",
       "    </tr>\n",
       "    <tr>\n",
       "      <th>45658</th>\n",
       "      <td>45659</td>\n",
       "      <td>2469</td>\n",
       "    </tr>\n",
       "    <tr>\n",
       "      <th>7344</th>\n",
       "      <td>7345</td>\n",
       "      <td>2429</td>\n",
       "    </tr>\n",
       "    <tr>\n",
       "      <th>66019</th>\n",
       "      <td>66021</td>\n",
       "      <td>2362</td>\n",
       "    </tr>\n",
       "    <tr>\n",
       "      <th>12430</th>\n",
       "      <td>12431</td>\n",
       "      <td>2351</td>\n",
       "    </tr>\n",
       "    <tr>\n",
       "      <th>65838</th>\n",
       "      <td>65840</td>\n",
       "      <td>2218</td>\n",
       "    </tr>\n",
       "    <tr>\n",
       "      <th>53490</th>\n",
       "      <td>53492</td>\n",
       "      <td>2203</td>\n",
       "    </tr>\n",
       "    <tr>\n",
       "      <th>28520</th>\n",
       "      <td>28521</td>\n",
       "      <td>2155</td>\n",
       "    </tr>\n",
       "    <tr>\n",
       "      <th>40603</th>\n",
       "      <td>40604</td>\n",
       "      <td>2130</td>\n",
       "    </tr>\n",
       "  </tbody>\n",
       "</table>\n",
       "</div>"
      ],
      "text/plain": [
       "       user_id  rating\n",
       "48764    48766   10227\n",
       "42634    42635    3747\n",
       "53696    53698    2905\n",
       "57618    57620    2702\n",
       "59641    59643    2633\n",
       "51691    51693    2622\n",
       "27363    27364    2499\n",
       "45658    45659    2469\n",
       "7344      7345    2429\n",
       "66019    66021    2362\n",
       "12430    12431    2351\n",
       "65838    65840    2218\n",
       "53490    53492    2203\n",
       "28520    28521    2155\n",
       "40603    40604    2130"
      ]
     },
     "execution_count": 11,
     "metadata": {},
     "output_type": "execute_result"
    }
   ],
   "source": [
    "df_rating.groupby('user_id')['rating'].count().reset_index().sort_values('rating', ascending=False)[:15]"
   ]
  },
  {
   "cell_type": "markdown",
   "metadata": {},
   "source": [
    "#### The above information shows that the most productive user have given 10227 ratings"
   ]
  },
  {
   "cell_type": "code",
   "execution_count": 12,
   "metadata": {},
   "outputs": [
    {
     "data": {
      "text/plain": [
       "697.6550892857143"
      ]
     },
     "execution_count": 12,
     "metadata": {},
     "output_type": "execute_result"
    }
   ],
   "source": [
    "# avg number of ratings given per anime\n",
    "ratings_per_anime = df_rating.groupby('anime_id')['rating'].count()\n",
    "statistics.mean(ratings_per_anime.tolist())"
   ]
  },
  {
   "cell_type": "code",
   "execution_count": 13,
   "metadata": {},
   "outputs": [
    {
     "data": {
      "text/plain": [
       "<matplotlib.axes._subplots.AxesSubplot at 0x1171887d0>"
      ]
     },
     "execution_count": 13,
     "metadata": {},
     "output_type": "execute_result"
    },
    {
     "data": {
      "image/png": "[encoded data removed]",
      "text/plain": [
       "<Figure size 432x288 with 1 Axes>"
      ]
     },
     "metadata": {
      "needs_background": "light"
     },
     "output_type": "display_data"
    }
   ],
   "source": [
    "# distribution of ratings per anime\n",
    "import matplotlib.pyplot as plt\n",
    "%matplotlib inline\n",
    "ratings_per_anime.hist(bins=20, range=(0,2500))"
   ]
  },
  {
   "cell_type": "markdown",
   "metadata": {},
   "source": [
    "#### From the above plot it is clear that most of th anime have received less than 500 ratings"
   ]
  },
  {
   "cell_type": "code",
   "execution_count": 14,
   "metadata": {},
   "outputs": [
    {
     "data": {
      "text/html": [
       "<div>\n",
       "<style scoped>\n",
       "    .dataframe tbody tr th:only-of-type {\n",
       "        vertical-align: middle;\n",
       "    }\n",
       "\n",
       "    .dataframe tbody tr th {\n",
       "        vertical-align: top;\n",
       "    }\n",
       "\n",
       "    .dataframe thead th {\n",
       "        text-align: right;\n",
       "    }\n",
       "</style>\n",
       "<table border=\"1\" class=\"dataframe\">\n",
       "  <thead>\n",
       "    <tr style=\"text-align: right;\">\n",
       "      <th></th>\n",
       "      <th>anime_id</th>\n",
       "      <th>rating</th>\n",
       "    </tr>\n",
       "  </thead>\n",
       "  <tbody>\n",
       "    <tr>\n",
       "      <th>1389</th>\n",
       "      <td>1535</td>\n",
       "      <td>39340</td>\n",
       "    </tr>\n",
       "    <tr>\n",
       "      <th>6606</th>\n",
       "      <td>11757</td>\n",
       "      <td>30583</td>\n",
       "    </tr>\n",
       "    <tr>\n",
       "      <th>7439</th>\n",
       "      <td>16498</td>\n",
       "      <td>29584</td>\n",
       "    </tr>\n",
       "    <tr>\n",
       "      <th>1427</th>\n",
       "      <td>1575</td>\n",
       "      <td>27718</td>\n",
       "    </tr>\n",
       "    <tr>\n",
       "      <th>201</th>\n",
       "      <td>226</td>\n",
       "      <td>27506</td>\n",
       "    </tr>\n",
       "    <tr>\n",
       "      <th>4630</th>\n",
       "      <td>6547</td>\n",
       "      <td>27183</td>\n",
       "    </tr>\n",
       "    <tr>\n",
       "      <th>10</th>\n",
       "      <td>20</td>\n",
       "      <td>25925</td>\n",
       "    </tr>\n",
       "    <tr>\n",
       "      <th>99</th>\n",
       "      <td>121</td>\n",
       "      <td>25032</td>\n",
       "    </tr>\n",
       "    <tr>\n",
       "      <th>3965</th>\n",
       "      <td>5114</td>\n",
       "      <td>24574</td>\n",
       "    </tr>\n",
       "    <tr>\n",
       "      <th>3558</th>\n",
       "      <td>4224</td>\n",
       "      <td>24283</td>\n",
       "    </tr>\n",
       "    <tr>\n",
       "      <th>2651</th>\n",
       "      <td>2904</td>\n",
       "      <td>24242</td>\n",
       "    </tr>\n",
       "    <tr>\n",
       "      <th>5214</th>\n",
       "      <td>8074</td>\n",
       "      <td>23065</td>\n",
       "    </tr>\n",
       "    <tr>\n",
       "      <th>175</th>\n",
       "      <td>199</td>\n",
       "      <td>22974</td>\n",
       "    </tr>\n",
       "    <tr>\n",
       "      <th>6288</th>\n",
       "      <td>10620</td>\n",
       "      <td>21826</td>\n",
       "    </tr>\n",
       "    <tr>\n",
       "      <th>1978</th>\n",
       "      <td>2167</td>\n",
       "      <td>21721</td>\n",
       "    </tr>\n",
       "  </tbody>\n",
       "</table>\n",
       "</div>"
      ],
      "text/plain": [
       "      anime_id  rating\n",
       "1389      1535   39340\n",
       "6606     11757   30583\n",
       "7439     16498   29584\n",
       "1427      1575   27718\n",
       "201        226   27506\n",
       "4630      6547   27183\n",
       "10          20   25925\n",
       "99         121   25032\n",
       "3965      5114   24574\n",
       "3558      4224   24283\n",
       "2651      2904   24242\n",
       "5214      8074   23065\n",
       "175        199   22974\n",
       "6288     10620   21826\n",
       "1978      2167   21721"
      ]
     },
     "execution_count": 14,
     "metadata": {},
     "output_type": "execute_result"
    }
   ],
   "source": [
    "df_rating.groupby('anime_id')['rating'].count().reset_index().sort_values('rating',ascending=False)[:15]"
   ]
  },
  {
   "cell_type": "markdown",
   "metadata": {},
   "source": [
    "#### The above information shows that the most rated anime have got 39340 ratings"
   ]
  },
  {
   "cell_type": "markdown",
   "metadata": {},
   "source": [
    "#### The above two plots shows the same distribution. Which means the number of ratings per user and number of ratings per anime reduces exponentially. "
   ]
  },
  {
   "cell_type": "code",
   "execution_count": 15,
   "metadata": {},
   "outputs": [],
   "source": [
    "# Avoiding memory error and reducing dimenionality of the data set. \n",
    "# randomly selecting only those users who has rated min 200 anime and anime that has recieved 250 ratings "
   ]
  },
  {
   "cell_type": "code",
   "execution_count": 16,
   "metadata": {},
   "outputs": [
    {
     "name": "stdout",
     "output_type": "stream",
     "text": [
      "The original data frame shape:\t(7813737, 3)\n",
      "The new data frame shape:\t(1171843, 3)\n"
     ]
    }
   ],
   "source": [
    "min_user_ratings = 200\n",
    "filter_users = df_rating['user_id'].value_counts() > min_user_ratings\n",
    "filter_users = filter_users[filter_users].index.tolist()\n",
    "\n",
    "min_anime_ratings = 250\n",
    "filter_anime = df_rating['anime_id'].value_counts() > min_anime_ratings\n",
    "filter_anime = filter_anime[filter_anime].index.tolist()\n",
    "\n",
    "random.seed(9999)\n",
    "df_new = df_rating[(df_rating['user_id'].isin(filter_users)) & \n",
    "                   (df_rating['anime_id'].isin(filter_anime))].sample(frac=.3)\n",
    "print('The original data frame shape:\\t{}'.format(df_rating.shape))\n",
    "print('The new data frame shape:\\t{}'.format(df_new.shape))"
   ]
  },
  {
   "cell_type": "code",
   "execution_count": 17,
   "metadata": {},
   "outputs": [
    {
     "data": {
      "text/plain": [
       "11193"
      ]
     },
     "execution_count": 17,
     "metadata": {},
     "output_type": "execute_result"
    }
   ],
   "source": [
    "len(df_new['user_id'].unique())  #checking unique anime ids"
   ]
  },
  {
   "cell_type": "code",
   "execution_count": 18,
   "metadata": {},
   "outputs": [
    {
     "data": {
      "text/plain": [
       "3318"
      ]
     },
     "execution_count": 18,
     "metadata": {},
     "output_type": "execute_result"
    }
   ],
   "source": [
    "len(df_new['anime_id'].unique())  #checking unique anime ids"
   ]
  },
  {
   "cell_type": "code",
   "execution_count": 19,
   "metadata": {},
   "outputs": [
    {
     "data": {
      "text/plain": [
       "(226049, 3)"
      ]
     },
     "execution_count": 19,
     "metadata": {},
     "output_type": "execute_result"
    }
   ],
   "source": [
    "#checking number of -1 rating \n",
    "df_neg = df_new[df_new.rating == -1]\n",
    "df_neg.shape"
   ]
  },
  {
   "cell_type": "code",
   "execution_count": 20,
   "metadata": {},
   "outputs": [
    {
     "data": {
      "text/plain": [
       "(945794, 3)"
      ]
     },
     "execution_count": 20,
     "metadata": {},
     "output_type": "execute_result"
    }
   ],
   "source": [
    "#checking number of anime that have got rating from user\n",
    "df_pos = df_new[df_new.rating != -1]\n",
    "df_pos.shape"
   ]
  },
  {
   "cell_type": "markdown",
   "metadata": {},
   "source": [
    "## Collaborative filtering using surprise package"
   ]
  },
  {
   "cell_type": "code",
   "execution_count": 21,
   "metadata": {},
   "outputs": [],
   "source": [
    "from surprise import Reader, Dataset,accuracy"
   ]
  },
  {
   "cell_type": "code",
   "execution_count": 22,
   "metadata": {},
   "outputs": [],
   "source": [
    "reader = Reader(rating_scale=(0, 10))\n",
    "data = Dataset.load_from_df(df_new[['user_id', 'anime_id', 'rating']], reader)"
   ]
  },
  {
   "cell_type": "code",
   "execution_count": 23,
   "metadata": {},
   "outputs": [],
   "source": [
    "random.seed(9999)\n",
    "#spliting the data into train and test data set\n",
    "from surprise.model_selection import train_test_split\n",
    "train_n, test_n = train_test_split(data, test_size= .35)"
   ]
  },
  {
   "cell_type": "code",
   "execution_count": 24,
   "metadata": {},
   "outputs": [
    {
     "name": "stdout",
     "output_type": "stream",
     "text": [
      "Type trainset : <class 'surprise.trainset.Trainset'> \n",
      "\n",
      "Type testset : <class 'list'>\n"
     ]
    }
   ],
   "source": [
    "#checking the type of train and test data\n",
    "print('Type trainset :',type(train_n),'\\n')\n",
    "print('Type testset :',type(test_n))"
   ]
  },
  {
   "cell_type": "code",
   "execution_count": 25,
   "metadata": {},
   "outputs": [
    {
     "name": "stdout",
     "output_type": "stream",
     "text": [
      "410146\n",
      "(27500, 15687, 10.0)\n"
     ]
    }
   ],
   "source": [
    "#exploring test data set\n",
    "print(len(test_n))\n",
    "print(test_n[0])"
   ]
  },
  {
   "cell_type": "code",
   "execution_count": 26,
   "metadata": {},
   "outputs": [],
   "source": [
    "#importing from surprise package\n",
    "from surprise.prediction_algorithms import knns\n",
    "from surprise.similarities import cosine,pearson\n",
    "from surprise import accuracy"
   ]
  },
  {
   "cell_type": "code",
   "execution_count": 27,
   "metadata": {},
   "outputs": [
    {
     "name": "stdout",
     "output_type": "stream",
     "text": [
      "Number of users:  11193 \n",
      "\n",
      "Number of anime:  3318 \n",
      "\n"
     ]
    }
   ],
   "source": [
    "#checking number of user and anime in train data\n",
    "print('Number of users: ', train_n.n_users, '\\n')\n",
    "print('Number of anime: ', train_n.n_items, '\\n')\n",
    "\n"
   ]
  },
  {
   "cell_type": "code",
   "execution_count": 28,
   "metadata": {},
   "outputs": [],
   "source": [
    "#function to get top n predictions\n",
    "from collections import defaultdict\n",
    "def get_top_n(predictions, n=10):\n",
    "    \n",
    "    # First map the predictions to each user.\n",
    "    top_n = defaultdict(list)\n",
    "    for uid, iid, r_ui, est, _ in predictions:\n",
    "        top_n[uid].append((iid, est, r_ui))\n",
    "\n",
    "    # Then sort the predictions for each user and retrieve the k highest ones.\n",
    "    for uid, user_ratings in top_n.items():\n",
    "        # print(user_ratings)\n",
    "        user_ratings = sorted(user_ratings,key=lambda x: x[1], reverse=True)\n",
    "        top_n[uid] = user_ratings[:n]\n",
    "\n",
    "    return top_n"
   ]
  },
  {
   "cell_type": "markdown",
   "metadata": {},
   "source": [
    "## Performing Item-item based collaborative filtering using surprise "
   ]
  },
  {
   "cell_type": "markdown",
   "metadata": {},
   "source": [
    "##### We will be using KNN, KNN with means and KNNBaselines method to build models \n",
    "##### Similarity measures used Cosine and Pearson\n",
    "##### Evaluation metric used RMSE"
   ]
  },
  {
   "cell_type": "markdown",
   "metadata": {},
   "source": [
    "### A: Build models using cosine similarity"
   ]
  },
  {
   "cell_type": "code",
   "execution_count": 29,
   "metadata": {},
   "outputs": [],
   "source": [
    "# defining similarity metrics\n",
    "sim_cos = {'name':'cosine', 'user_based':False}"
   ]
  },
  {
   "cell_type": "markdown",
   "metadata": {},
   "source": [
    "###### Fitting model with KNN method"
   ]
  },
  {
   "cell_type": "code",
   "execution_count": 30,
   "metadata": {},
   "outputs": [
    {
     "name": "stdout",
     "output_type": "stream",
     "text": [
      "Computing the cosine similarity matrix...\n",
      "Done computing similarity matrix.\n"
     ]
    },
    {
     "data": {
      "text/plain": [
       "<surprise.prediction_algorithms.knns.KNNBasic at 0x117cf8a10>"
      ]
     },
     "execution_count": 30,
     "metadata": {},
     "output_type": "execute_result"
    }
   ],
   "source": [
    "# fiting the KNN model on train data \n",
    "Kbasic = knns.KNNBasic(sim_options=sim_cos)\n",
    "Kbasic.fit(train_n)"
   ]
  },
  {
   "cell_type": "code",
   "execution_count": 31,
   "metadata": {},
   "outputs": [],
   "source": [
    "# testing the above fitted model on test data set\n",
    "predictions = Kbasic.test(test_n)"
   ]
  },
  {
   "cell_type": "code",
   "execution_count": 32,
   "metadata": {},
   "outputs": [
    {
     "name": "stdout",
     "output_type": "stream",
     "text": [
      "RMSE: 2.2147\n",
      "KNN accuracy with cosine similarity 2.2147100725603126\n"
     ]
    }
   ],
   "source": [
    "# evaluating using rmse\n",
    "acc = accuracy.rmse(predictions)\n",
    "print(\"KNN accuracy with cosine similarity\", acc)"
   ]
  },
  {
   "cell_type": "code",
   "execution_count": 33,
   "metadata": {},
   "outputs": [],
   "source": [
    "# geting top n predictions\n",
    "top_pred_knn = get_top_n(predictions,20)"
   ]
  },
  {
   "cell_type": "code",
   "execution_count": 35,
   "metadata": {},
   "outputs": [
    {
     "data": {
      "text/plain": [
       "[(27655, 7.863911412295212, 7.0),\n",
       " (9041, 7.768290904891257, 8.0),\n",
       " (26441, 7.767669661128019, 8.0),\n",
       " (10793, 7.755072120223349, 7.0),\n",
       " (11757, 7.726964960251679, 10.0),\n",
       " (121, 7.724683435410317, 10.0),\n",
       " (28907, 7.677954570814168, 8.0),\n",
       " (2404, 7.591305592909373, 8.0),\n",
       " (23321, 7.56047311650403, -1.0),\n",
       " (16011, 7.5487770454005645, 8.0),\n",
       " (1606, 7.5341702939024895, -1.0),\n",
       " (4063, 7.521807125537278, 8.0),\n",
       " (226, 7.5014717605881795, 10.0),\n",
       " (986, 7.474246432845613, 9.0),\n",
       " (31240, 7.464378488022569, 9.0),\n",
       " (1164, 7.440617172546458, 8.0),\n",
       " (2993, 7.397581187045008, 7.0),\n",
       " (5958, 7.392443700163795, 7.0),\n",
       " (228, 7.358151912255911, 8.0),\n",
       " (29803, 7.355342497104647, 9.0)]"
      ]
     },
     "execution_count": 35,
     "metadata": {},
     "output_type": "execute_result"
    }
   ],
   "source": [
    "top_pred_knn[50877]"
   ]
  },
  {
   "cell_type": "markdown",
   "metadata": {},
   "source": [
    "##### Fitting model with KNNWithMeans method"
   ]
  },
  {
   "cell_type": "code",
   "execution_count": 36,
   "metadata": {},
   "outputs": [
    {
     "name": "stdout",
     "output_type": "stream",
     "text": [
      "Computing the cosine similarity matrix...\n",
      "Done computing similarity matrix.\n"
     ]
    },
    {
     "data": {
      "text/plain": [
       "<surprise.prediction_algorithms.knns.KNNWithMeans at 0x14ae8b650>"
      ]
     },
     "execution_count": 36,
     "metadata": {},
     "output_type": "execute_result"
    }
   ],
   "source": [
    "# fiting the KNN with means model on train data \n",
    "KMeans = knns.KNNWithMeans(sim_options=sim_cos)\n",
    "KMeans.fit(train_n)\n"
   ]
  },
  {
   "cell_type": "code",
   "execution_count": 37,
   "metadata": {
    "scrolled": true
   },
   "outputs": [],
   "source": [
    "# testing the above fitted model on test data set\n",
    "predictions_m = KMeans.test(test_n)"
   ]
  },
  {
   "cell_type": "code",
   "execution_count": 38,
   "metadata": {},
   "outputs": [
    {
     "name": "stdout",
     "output_type": "stream",
     "text": [
      "RMSE: 2.1263\n",
      "KNNWithMeans accuracy with cosine similarity 2.1262819936476403\n"
     ]
    }
   ],
   "source": [
    "# evaluating using rmse\n",
    "acc_m = accuracy.rmse(predictions_m)\n",
    "print(\"KNNWithMeans accuracy with cosine similarity\", acc_m)"
   ]
  },
  {
   "cell_type": "code",
   "execution_count": 39,
   "metadata": {},
   "outputs": [],
   "source": [
    "#getting top n predictions\n",
    "top_pred_knn_m = get_top_n(predictions_m,20)"
   ]
  },
  {
   "cell_type": "code",
   "execution_count": 40,
   "metadata": {},
   "outputs": [
    {
     "data": {
      "text/plain": [
       "[(31240, 8.171627671918259, 9.0),\n",
       " (1689, 8.147364663101508, 8.0),\n",
       " (22297, 8.122722608767448, 8.0),\n",
       " (11757, 8.117627484520641, 10.0),\n",
       " (121, 8.025136394954787, 10.0),\n",
       " (10793, 7.865133044317727, 7.0),\n",
       " (28907, 7.827378270863756, 8.0),\n",
       " (226, 7.734880376826577, 10.0),\n",
       " (29803, 7.687860980294356, 9.0),\n",
       " (31637, 7.575222075664661, 8.0),\n",
       " (27655, 7.561638313635886, 7.0),\n",
       " (1606, 7.512231146605437, -1.0),\n",
       " (16011, 7.461741999705486, 8.0),\n",
       " (16009, 7.412920866437821, 7.0),\n",
       " (12467, 7.409458434879552, 7.0),\n",
       " (9332, 7.409353681290079, 6.0),\n",
       " (228, 7.268375541262626, 8.0),\n",
       " (5958, 7.242462341129809, 7.0),\n",
       " (23321, 7.2399912257975405, -1.0),\n",
       " (9041, 7.182832664723447, 8.0)]"
      ]
     },
     "execution_count": 40,
     "metadata": {},
     "output_type": "execute_result"
    }
   ],
   "source": [
    "top_pred_knn_m[50877]"
   ]
  },
  {
   "cell_type": "markdown",
   "metadata": {},
   "source": [
    "##### Fitting model with KNNBaseline method"
   ]
  },
  {
   "cell_type": "code",
   "execution_count": 41,
   "metadata": {},
   "outputs": [
    {
     "name": "stdout",
     "output_type": "stream",
     "text": [
      "Estimating biases using als...\n",
      "Computing the cosine similarity matrix...\n",
      "Done computing similarity matrix.\n"
     ]
    },
    {
     "data": {
      "text/plain": [
       "<surprise.prediction_algorithms.knns.KNNBaseline at 0x14ae8b610>"
      ]
     },
     "execution_count": 41,
     "metadata": {},
     "output_type": "execute_result"
    }
   ],
   "source": [
    "# fiting the KNNBaseline model on train data \n",
    "KBase = knns.KNNBaseline(sim_options=sim_cos)\n",
    "KBase.fit(train_n)"
   ]
  },
  {
   "cell_type": "code",
   "execution_count": 42,
   "metadata": {},
   "outputs": [],
   "source": [
    "# testing the above fitted model on test data set\n",
    "predictions_b = KBase.test(test_n)"
   ]
  },
  {
   "cell_type": "code",
   "execution_count": 43,
   "metadata": {},
   "outputs": [
    {
     "name": "stdout",
     "output_type": "stream",
     "text": [
      "RMSE: 2.1163\n",
      "KNNBaseline accuracy with cosine similarity 2.1162847402898137\n"
     ]
    }
   ],
   "source": [
    "# evaluating using rmse\n",
    "acc_b = accuracy.rmse(predictions_b)\n",
    "print(\"KNNBaseline accuracy with cosine similarity\", acc_b)"
   ]
  },
  {
   "cell_type": "code",
   "execution_count": 44,
   "metadata": {},
   "outputs": [],
   "source": [
    "#getting top n predictions\n",
    "top_pred_knn_b = get_top_n(predictions_b,20)"
   ]
  },
  {
   "cell_type": "code",
   "execution_count": 45,
   "metadata": {},
   "outputs": [
    {
     "data": {
      "text/plain": [
       "[(121, 8.075666161884456, 10.0),\n",
       " (31240, 8.033532482449202, 9.0),\n",
       " (11757, 8.000867522235328, 10.0),\n",
       " (22297, 7.937477695990111, 8.0),\n",
       " (1689, 7.901106694601762, 8.0),\n",
       " (10793, 7.7699457079610035, 7.0),\n",
       " (28907, 7.744071107802116, 8.0),\n",
       " (226, 7.689380937154447, 10.0),\n",
       " (27655, 7.507674834804395, 7.0),\n",
       " (16011, 7.497838641003867, 8.0),\n",
       " (29803, 7.495696053079993, 9.0),\n",
       " (1606, 7.478771288387837, -1.0),\n",
       " (23321, 7.398243574990202, -1.0),\n",
       " (16009, 7.369354062186998, 7.0),\n",
       " (228, 7.347018995694419, 8.0),\n",
       " (31637, 7.3293173437202, 8.0),\n",
       " (9332, 7.283086292689589, 6.0),\n",
       " (5958, 7.241789035459241, 7.0),\n",
       " (26441, 7.176979005096149, 8.0),\n",
       " (9041, 7.172110087196468, 8.0)]"
      ]
     },
     "execution_count": 45,
     "metadata": {},
     "output_type": "execute_result"
    }
   ],
   "source": [
    "top_pred_knn_b[50877]"
   ]
  },
  {
   "cell_type": "markdown",
   "metadata": {},
   "source": [
    "### B: Build models using pearson similarity"
   ]
  },
  {
   "cell_type": "code",
   "execution_count": 46,
   "metadata": {},
   "outputs": [],
   "source": [
    "# defining similarity metrics\n",
    "sim_pear = {'name':'pearson', 'user_based':False}"
   ]
  },
  {
   "cell_type": "markdown",
   "metadata": {},
   "source": [
    "##### Fitting model with KNN method"
   ]
  },
  {
   "cell_type": "code",
   "execution_count": 47,
   "metadata": {},
   "outputs": [
    {
     "name": "stdout",
     "output_type": "stream",
     "text": [
      "Computing the pearson similarity matrix...\n",
      "Done computing similarity matrix.\n"
     ]
    },
    {
     "data": {
      "text/plain": [
       "<surprise.prediction_algorithms.knns.KNNBasic at 0x117d06e50>"
      ]
     },
     "execution_count": 47,
     "metadata": {},
     "output_type": "execute_result"
    }
   ],
   "source": [
    "# fiting the KNN model on train data \n",
    "K_basic = knns.KNNBasic(sim_options=sim_pear)\n",
    "K_basic.fit(train_n)"
   ]
  },
  {
   "cell_type": "code",
   "execution_count": 48,
   "metadata": {},
   "outputs": [],
   "source": [
    "# testing the above fitted model on test data set\n",
    "predictions_p = K_basic.test(test_n)"
   ]
  },
  {
   "cell_type": "code",
   "execution_count": 49,
   "metadata": {},
   "outputs": [
    {
     "name": "stdout",
     "output_type": "stream",
     "text": [
      "RMSE: 2.2104\n",
      "KNN accuracy with pearson similarity 2.2103852846685035\n"
     ]
    }
   ],
   "source": [
    "# evaluating using rmse\n",
    "acc_p = accuracy.rmse(predictions_p)\n",
    "print(\"KNN accuracy with pearson similarity\", acc_p)"
   ]
  },
  {
   "cell_type": "code",
   "execution_count": 50,
   "metadata": {},
   "outputs": [],
   "source": [
    "# geting top n predictions\n",
    "top_pred_knn_p = get_top_n(predictions_p,20)"
   ]
  },
  {
   "cell_type": "code",
   "execution_count": 51,
   "metadata": {},
   "outputs": [
    {
     "data": {
      "text/plain": [
       "[(1606, 7.7162989593322004, -1.0),\n",
       " (2404, 7.70735341672896, 8.0),\n",
       " (12467, 7.689210681461972, 7.0),\n",
       " (1336, 7.684331912751296, 7.0),\n",
       " (9041, 7.638346730564549, 8.0),\n",
       " (27655, 7.60126508234109, 7.0),\n",
       " (28907, 7.5753569968599805, 8.0),\n",
       " (23321, 7.565336802211799, -1.0),\n",
       " (9332, 7.55748986899728, 6.0),\n",
       " (121, 7.540965565980139, 10.0),\n",
       " (26441, 7.530007365165607, 8.0),\n",
       " (22297, 7.517837090405148, 8.0),\n",
       " (29803, 7.500700817681466, 9.0),\n",
       " (986, 7.458874841114573, 9.0),\n",
       " (16011, 7.405107772234404, 8.0),\n",
       " (228, 7.3960834278843945, 8.0),\n",
       " (1164, 7.38002427394561, 8.0),\n",
       " (31240, 7.350544426017543, 9.0),\n",
       " (10793, 7.347768030943014, 7.0),\n",
       " (343, 7.339853217253912, 8.0)]"
      ]
     },
     "execution_count": 51,
     "metadata": {},
     "output_type": "execute_result"
    }
   ],
   "source": [
    "top_pred_knn_p[50877]"
   ]
  },
  {
   "cell_type": "markdown",
   "metadata": {},
   "source": [
    "###### Fitting model with KNNWithMeans method"
   ]
  },
  {
   "cell_type": "code",
   "execution_count": 52,
   "metadata": {},
   "outputs": [
    {
     "name": "stdout",
     "output_type": "stream",
     "text": [
      "Computing the pearson similarity matrix...\n",
      "Done computing similarity matrix.\n"
     ]
    },
    {
     "data": {
      "text/plain": [
       "<surprise.prediction_algorithms.knns.KNNWithMeans at 0x117d06850>"
      ]
     },
     "execution_count": 52,
     "metadata": {},
     "output_type": "execute_result"
    }
   ],
   "source": [
    "# fiting the KNNWithMeans model on train data \n",
    "K_Means = knns.KNNWithMeans(sim_options=sim_pear)\n",
    "K_Means.fit(train_n)"
   ]
  },
  {
   "cell_type": "code",
   "execution_count": 54,
   "metadata": {},
   "outputs": [],
   "source": [
    "# testing the above fitted model on test data set\n",
    "predictions_x = K_Means.test(test_n)"
   ]
  },
  {
   "cell_type": "code",
   "execution_count": 56,
   "metadata": {},
   "outputs": [
    {
     "name": "stdout",
     "output_type": "stream",
     "text": [
      "RMSE: 2.1151\n",
      "KNNWithMeans accuracy with pearson similarity 2.1151022145427585\n"
     ]
    }
   ],
   "source": [
    "# evaluating using rmse\n",
    "acc_x = accuracy.rmse(predictions_x)\n",
    "print(\"KNNWithMeans accuracy with pearson similarity\", acc_x)"
   ]
  },
  {
   "cell_type": "code",
   "execution_count": 57,
   "metadata": {},
   "outputs": [],
   "source": [
    "# getting top n predictions\n",
    "top_pred_knn_x = get_top_n(predictions_x,20)"
   ]
  },
  {
   "cell_type": "code",
   "execution_count": 58,
   "metadata": {},
   "outputs": [
    {
     "data": {
      "text/plain": [
       "[(22297, 8.418069455463996, 8.0),\n",
       " (31240, 8.206598105040696, 9.0),\n",
       " (1689, 8.150332061104368, 8.0),\n",
       " (121, 7.977852560018846, 10.0),\n",
       " (29803, 7.95075470295039, 9.0),\n",
       " (12467, 7.8673897201184495, 7.0),\n",
       " (28907, 7.796964929125836, 8.0),\n",
       " (1606, 7.654534728741059, -1.0),\n",
       " (9332, 7.626053744109188, 6.0),\n",
       " (226, 7.606546460156811, 10.0),\n",
       " (31637, 7.597032277488651, 8.0),\n",
       " (11757, 7.587415987088978, 10.0),\n",
       " (10793, 7.5591353188711805, 7.0),\n",
       " (27655, 7.396183580539111, 7.0),\n",
       " (228, 7.354366704669385, 8.0),\n",
       " (23321, 7.349515654874535, -1.0),\n",
       " (16009, 7.2820967906815035, 7.0),\n",
       " (16011, 7.26082288067894, 8.0),\n",
       " (2993, 7.221104863979203, 7.0),\n",
       " (9041, 7.080713313706259, 8.0)]"
      ]
     },
     "execution_count": 58,
     "metadata": {},
     "output_type": "execute_result"
    }
   ],
   "source": [
    "top_pred_knn_x[50877]"
   ]
  },
  {
   "cell_type": "markdown",
   "metadata": {},
   "source": [
    "##### Fitting model with KNNBaseline method"
   ]
  },
  {
   "cell_type": "code",
   "execution_count": 59,
   "metadata": {},
   "outputs": [
    {
     "name": "stdout",
     "output_type": "stream",
     "text": [
      "Estimating biases using als...\n",
      "Computing the pearson similarity matrix...\n",
      "Done computing similarity matrix.\n"
     ]
    },
    {
     "data": {
      "text/plain": [
       "<surprise.prediction_algorithms.knns.KNNBaseline at 0x117cf8b50>"
      ]
     },
     "execution_count": 59,
     "metadata": {},
     "output_type": "execute_result"
    }
   ],
   "source": [
    "# fiting the KNNBaseline model on train data \n",
    "K_Base = knns.KNNBaseline(sim_options=sim_pear)\n",
    "K_Base.fit(train_n)"
   ]
  },
  {
   "cell_type": "code",
   "execution_count": 60,
   "metadata": {},
   "outputs": [],
   "source": [
    "# testing the above fitted model on test data set\n",
    "predictions_r = K_Base.test(test_n)"
   ]
  },
  {
   "cell_type": "code",
   "execution_count": 61,
   "metadata": {},
   "outputs": [
    {
     "name": "stdout",
     "output_type": "stream",
     "text": [
      "RMSE: 2.1054\n",
      "KNNBaseline accuracy with pearson similarity 2.105387165802676\n"
     ]
    }
   ],
   "source": [
    "# evaluating using rmse\n",
    "acc_r = accuracy.rmse(predictions_r)\n",
    "print(\"KNNBaseline accuracy with pearson similarity\", acc_r)"
   ]
  },
  {
   "cell_type": "code",
   "execution_count": 62,
   "metadata": {},
   "outputs": [
    {
     "data": {
      "text/plain": [
       "[(22297, 8.234753374041171, 8.0),\n",
       " (31240, 8.059812303686103, 9.0),\n",
       " (121, 7.998516152796367, 10.0),\n",
       " (1689, 7.884401628301972, 8.0),\n",
       " (28907, 7.732008319832296, 8.0),\n",
       " (29803, 7.713949818879352, 9.0),\n",
       " (1606, 7.633841420016772, -1.0),\n",
       " (12467, 7.590111075026991, 7.0),\n",
       " (226, 7.5209782125400615, 10.0),\n",
       " (9332, 7.515026386533637, 6.0),\n",
       " (23321, 7.492618754705244, -1.0),\n",
       " (10793, 7.468175650322573, 7.0),\n",
       " (11757, 7.4569037462804815, 10.0),\n",
       " (228, 7.421459371106026, 8.0),\n",
       " (31637, 7.37766365193989, 8.0),\n",
       " (27655, 7.337109850736618, 7.0),\n",
       " (16011, 7.3260643282536355, 8.0),\n",
       " (16009, 7.262323743261044, 7.0),\n",
       " (208, 7.086917531796121, 10.0),\n",
       " (9041, 7.075496451572246, 8.0)]"
      ]
     },
     "execution_count": 62,
     "metadata": {},
     "output_type": "execute_result"
    }
   ],
   "source": [
    "# getting top n predictions\n",
    "top_pred_knn_r = get_top_n(predictions_r,20)\n",
    "top_pred_knn_r[50877]"
   ]
  },
  {
   "cell_type": "markdown",
   "metadata": {},
   "source": [
    "## Performing User-User based collaborative filtering using surprise "
   ]
  },
  {
   "cell_type": "markdown",
   "metadata": {},
   "source": [
    "##### We will be using KNN, KNN with means and KNNBaselines method to build models \n",
    "##### Similarity measures used Cosine and Pearson\n",
    "##### Evaluation metric used RMSE"
   ]
  },
  {
   "cell_type": "markdown",
   "metadata": {},
   "source": [
    "### A: Build models using cosine similarity"
   ]
  },
  {
   "cell_type": "code",
   "execution_count": 63,
   "metadata": {},
   "outputs": [],
   "source": [
    "# defining similarity metrics\n",
    "sim_ucos = {'name':'cosine', 'user_based':True}"
   ]
  },
  {
   "cell_type": "markdown",
   "metadata": {},
   "source": [
    "##### Fitting model with KNN method"
   ]
  },
  {
   "cell_type": "code",
   "execution_count": 64,
   "metadata": {},
   "outputs": [
    {
     "name": "stdout",
     "output_type": "stream",
     "text": [
      "Computing the cosine similarity matrix...\n",
      "Done computing similarity matrix.\n"
     ]
    },
    {
     "data": {
      "text/plain": [
       "<surprise.prediction_algorithms.knns.KNNBasic at 0x1063a4b50>"
      ]
     },
     "execution_count": 64,
     "metadata": {},
     "output_type": "execute_result"
    }
   ],
   "source": [
    "# fiting the KNN model on train data \n",
    "Kbasic_u = knns.KNNBasic(sim_options=sim_ucos)\n",
    "Kbasic_u.fit(train_n)"
   ]
  },
  {
   "cell_type": "code",
   "execution_count": 65,
   "metadata": {},
   "outputs": [],
   "source": [
    "# testing the above fitted model on test data set\n",
    "predictions_u = Kbasic_u.test(test_n)"
   ]
  },
  {
   "cell_type": "code",
   "execution_count": 66,
   "metadata": {},
   "outputs": [
    {
     "name": "stdout",
     "output_type": "stream",
     "text": [
      "RMSE: 2.4697\n",
      "KNN accuracy with cosine similarity 2.469718380053919\n"
     ]
    }
   ],
   "source": [
    "# evaluating using rmse\n",
    "acc_u = accuracy.rmse(predictions_u)\n",
    "print(\"KNN accuracy with cosine similarity\", acc_u)"
   ]
  },
  {
   "cell_type": "code",
   "execution_count": 67,
   "metadata": {},
   "outputs": [
    {
     "data": {
      "text/plain": [
       "[(31240, 8.375, 9.0),\n",
       " (22297, 8.3, 8.0),\n",
       " (11757, 8.275, 10.0),\n",
       " (208, 7.925104121454358, 10.0),\n",
       " (31637, 7.85, 8.0),\n",
       " (226, 7.85, 10.0),\n",
       " (28907, 7.725, 8.0),\n",
       " (1689, 7.725, 8.0),\n",
       " (121, 7.675, 10.0),\n",
       " (10793, 7.6, 7.0),\n",
       " (1606, 7.449848873965831, -1.0),\n",
       " (9332, 7.448102485808395, 6.0),\n",
       " (9041, 7.425, 8.0),\n",
       " (29803, 7.4, 9.0),\n",
       " (16009, 7.4, 7.0),\n",
       " (23321, 7.325, -1.0),\n",
       " (343, 7.299647518933949, 8.0),\n",
       " (5958, 7.25, 7.0),\n",
       " (12467, 7.249882064083561, 7.0),\n",
       " (2993, 7.15, 7.0)]"
      ]
     },
     "execution_count": 67,
     "metadata": {},
     "output_type": "execute_result"
    }
   ],
   "source": [
    "# getting top n predictions\n",
    "top_pred_knn_u = get_top_n(predictions_u,20)\n",
    "top_pred_knn_u[50877]"
   ]
  },
  {
   "cell_type": "markdown",
   "metadata": {},
   "source": [
    "##### Fitting model with KNNWithMeans method"
   ]
  },
  {
   "cell_type": "code",
   "execution_count": 68,
   "metadata": {},
   "outputs": [
    {
     "name": "stdout",
     "output_type": "stream",
     "text": [
      "Computing the cosine similarity matrix...\n",
      "Done computing similarity matrix.\n"
     ]
    },
    {
     "data": {
      "text/plain": [
       "<surprise.prediction_algorithms.knns.KNNWithMeans at 0x117d06150>"
      ]
     },
     "execution_count": 68,
     "metadata": {},
     "output_type": "execute_result"
    }
   ],
   "source": [
    "# fiting the KNNWithMeans model on train data \n",
    "KMeans_e = knns.KNNWithMeans(sim_options=sim_ucos)\n",
    "KMeans_e.fit(train_n)"
   ]
  },
  {
   "cell_type": "code",
   "execution_count": 69,
   "metadata": {},
   "outputs": [],
   "source": [
    "# testing the above fitted model on test data set\n",
    "predictions_e = KMeans_e.test(test_n)"
   ]
  },
  {
   "cell_type": "code",
   "execution_count": 70,
   "metadata": {},
   "outputs": [
    {
     "name": "stdout",
     "output_type": "stream",
     "text": [
      "RMSE: 2.1351\n",
      "KNNWithMeans accuracy with cosine similarity 2.1350790668900084\n"
     ]
    }
   ],
   "source": [
    "# evaluating using rmse\n",
    "acc_e = accuracy.rmse(predictions_e)\n",
    "print(\"KNNWithMeans accuracy with cosine similarity\", acc_e)"
   ]
  },
  {
   "cell_type": "code",
   "execution_count": 71,
   "metadata": {},
   "outputs": [
    {
     "data": {
      "text/plain": [
       "[(11757, 8.724613548221138, 10.0),\n",
       " (31240, 8.46155548330291, 9.0),\n",
       " (22297, 8.390298833879136, 8.0),\n",
       " (1689, 8.219878052170976, 8.0),\n",
       " (208, 7.9201373344265305, 10.0),\n",
       " (16009, 7.803724607363831, 7.0),\n",
       " (226, 7.748464759739755, 10.0),\n",
       " (28907, 7.735095213281667, 8.0),\n",
       " (121, 7.70667127183274, 10.0),\n",
       " (228, 7.687307897395663, 8.0),\n",
       " (31637, 7.579012376579536, 8.0),\n",
       " (4063, 7.578645822370639, 8.0),\n",
       " (1606, 7.574823922649921, -1.0),\n",
       " (10793, 7.566385984493934, 7.0),\n",
       " (5958, 7.492356656901735, 7.0),\n",
       " (29803, 7.425592360407722, 9.0),\n",
       " (16011, 7.379463659530572, 8.0),\n",
       " (9332, 7.311473960332954, 6.0),\n",
       " (23321, 7.230454803754627, -1.0),\n",
       " (300, 7.217606566581924, 6.0)]"
      ]
     },
     "execution_count": 71,
     "metadata": {},
     "output_type": "execute_result"
    }
   ],
   "source": [
    "# getting top n predictions\n",
    "top_pred_knn_e = get_top_n(predictions_e,20)\n",
    "top_pred_knn_e[50877]"
   ]
  },
  {
   "cell_type": "markdown",
   "metadata": {},
   "source": [
    "##### Fitting model with KNNBaseline method"
   ]
  },
  {
   "cell_type": "code",
   "execution_count": 72,
   "metadata": {},
   "outputs": [
    {
     "name": "stdout",
     "output_type": "stream",
     "text": [
      "Estimating biases using als...\n",
      "Computing the cosine similarity matrix...\n",
      "Done computing similarity matrix.\n"
     ]
    },
    {
     "data": {
      "text/plain": [
       "<surprise.prediction_algorithms.knns.KNNBaseline at 0x117d06550>"
      ]
     },
     "execution_count": 72,
     "metadata": {},
     "output_type": "execute_result"
    }
   ],
   "source": [
    "# fiting the KNNBaseline model on train data \n",
    "KBase_f = knns.KNNBaseline(sim_options=sim_ucos)\n",
    "KBase_f.fit(train_n)"
   ]
  },
  {
   "cell_type": "code",
   "execution_count": 73,
   "metadata": {},
   "outputs": [],
   "source": [
    "# testing the above fitted model on test data set\n",
    "predictions_f = KBase_f.test(test_n)"
   ]
  },
  {
   "cell_type": "code",
   "execution_count": 74,
   "metadata": {},
   "outputs": [
    {
     "name": "stdout",
     "output_type": "stream",
     "text": [
      "RMSE: 2.1339\n",
      "KNNBaseline accuracy with cosine similarity 2.1339338337359117\n"
     ]
    }
   ],
   "source": [
    "# evaluating using rmse\n",
    "acc_f = accuracy.rmse(predictions_f)\n",
    "print(\"KNNBaseline accuracy with cosine similarity\", acc_f)"
   ]
  },
  {
   "cell_type": "code",
   "execution_count": 75,
   "metadata": {},
   "outputs": [
    {
     "data": {
      "text/plain": [
       "[(11757, 8.548376175963256, 10.0),\n",
       " (31240, 8.47583014325972, 9.0),\n",
       " (22297, 8.316085333074673, 8.0),\n",
       " (1689, 8.054150606598052, 8.0),\n",
       " (208, 7.833142020062522, 10.0),\n",
       " (226, 7.718044030861152, 10.0),\n",
       " (28907, 7.714422990799071, 8.0),\n",
       " (121, 7.638949456662434, 10.0),\n",
       " (16009, 7.615037926800309, 7.0),\n",
       " (31637, 7.561811130803961, 8.0),\n",
       " (10793, 7.515580355952969, 7.0),\n",
       " (228, 7.476287917814783, 8.0),\n",
       " (1606, 7.4444206901595065, -1.0),\n",
       " (29803, 7.341146656936939, 9.0),\n",
       " (5958, 7.3397057079301415, 7.0),\n",
       " (4063, 7.327506523151727, 8.0),\n",
       " (16011, 7.20302862756931, 8.0),\n",
       " (9332, 7.177589704442449, 6.0),\n",
       " (23321, 7.163556575353715, -1.0),\n",
       " (27655, 7.00887523750949, 7.0)]"
      ]
     },
     "execution_count": 75,
     "metadata": {},
     "output_type": "execute_result"
    }
   ],
   "source": [
    "# getting top n predictions\n",
    "top_pred_knn_f = get_top_n(predictions_f,20)\n",
    "top_pred_knn_f[50877]"
   ]
  },
  {
   "cell_type": "markdown",
   "metadata": {},
   "source": [
    "### B: Build models using pearson similarity"
   ]
  },
  {
   "cell_type": "code",
   "execution_count": 76,
   "metadata": {},
   "outputs": [],
   "source": [
    "# defining similarity metrics\n",
    "sim_upear = {'name':'pearson', 'user_based':True}"
   ]
  },
  {
   "cell_type": "markdown",
   "metadata": {},
   "source": [
    "##### Fitting model with KNN method"
   ]
  },
  {
   "cell_type": "code",
   "execution_count": 77,
   "metadata": {},
   "outputs": [
    {
     "name": "stdout",
     "output_type": "stream",
     "text": [
      "Computing the pearson similarity matrix...\n",
      "Done computing similarity matrix.\n"
     ]
    },
    {
     "data": {
      "text/plain": [
       "<surprise.prediction_algorithms.knns.KNNBasic at 0x14ae8b590>"
      ]
     },
     "execution_count": 77,
     "metadata": {},
     "output_type": "execute_result"
    }
   ],
   "source": [
    "# fiting the KNN model on train data \n",
    "Kbasic_h = knns.KNNBasic(sim_options=sim_upear)\n",
    "Kbasic_h.fit(train_n)"
   ]
  },
  {
   "cell_type": "code",
   "execution_count": 78,
   "metadata": {},
   "outputs": [],
   "source": [
    "# testing the above fitted model on test data set\n",
    "predictions_h = Kbasic_h.test(test_n)"
   ]
  },
  {
   "cell_type": "code",
   "execution_count": 79,
   "metadata": {},
   "outputs": [
    {
     "name": "stdout",
     "output_type": "stream",
     "text": [
      "RMSE: 3.5966\n",
      "KNN accuracy with pearson similarity 3.5966258131881146\n"
     ]
    }
   ],
   "source": [
    "# evaluating using rmse\n",
    "acc_h = accuracy.rmse(predictions_h)\n",
    "print(\"KNN accuracy with pearson similarity\", acc_h)"
   ]
  },
  {
   "cell_type": "code",
   "execution_count": 80,
   "metadata": {},
   "outputs": [
    {
     "data": {
      "text/plain": [
       "[(22297, 7.975, 8.0),\n",
       " (11757, 7.75, 10.0),\n",
       " (31240, 7.7, 9.0),\n",
       " (121, 7.65, 10.0),\n",
       " (29803, 7.525, 9.0),\n",
       " (2404, 7.51036848471493, 8.0),\n",
       " (1606, 7.487447099311446, -1.0),\n",
       " (226, 7.425, 10.0),\n",
       " (1689, 7.4, 8.0),\n",
       " (4063, 7.3, 8.0),\n",
       " (31637, 7.275, 8.0),\n",
       " (10793, 7.275, 7.0),\n",
       " (23321, 7.175082947197121, -1.0),\n",
       " (228, 7.04578721401207, 8.0),\n",
       " (26441, 6.97241078431642, 8.0),\n",
       " (208, 6.96163421422999, 10.0),\n",
       " (2993, 6.95, 7.0),\n",
       " (5958, 6.9, 7.0),\n",
       " (9041, 6.875, 8.0),\n",
       " (343, 6.810306105822151, 8.0)]"
      ]
     },
     "execution_count": 80,
     "metadata": {},
     "output_type": "execute_result"
    }
   ],
   "source": [
    "# getting top n predictions\n",
    "top_pred_knn_h = get_top_n(predictions_h,20)\n",
    "top_pred_knn_h[50877]"
   ]
  },
  {
   "cell_type": "markdown",
   "metadata": {},
   "source": [
    "##### Fitting model with KNNWithMeans method"
   ]
  },
  {
   "cell_type": "code",
   "execution_count": 81,
   "metadata": {},
   "outputs": [
    {
     "name": "stdout",
     "output_type": "stream",
     "text": [
      "Computing the pearson similarity matrix...\n",
      "Done computing similarity matrix.\n"
     ]
    },
    {
     "data": {
      "text/plain": [
       "<surprise.prediction_algorithms.knns.KNNWithMeans at 0x1d9a07a90>"
      ]
     },
     "execution_count": 81,
     "metadata": {},
     "output_type": "execute_result"
    }
   ],
   "source": [
    "# fiting the KNNWithMeans model on train data \n",
    "KMeans_w = knns.KNNWithMeans(sim_options=sim_upear)\n",
    "KMeans_w.fit(train_n)"
   ]
  },
  {
   "cell_type": "code",
   "execution_count": 82,
   "metadata": {},
   "outputs": [],
   "source": [
    "# testing the above fitted model on test data set\n",
    "predictions_w = KMeans_w.test(test_n)"
   ]
  },
  {
   "cell_type": "code",
   "execution_count": 83,
   "metadata": {},
   "outputs": [
    {
     "name": "stdout",
     "output_type": "stream",
     "text": [
      "RMSE: 2.1312\n",
      "KNNWithMeans accuracy with pearson similarity 2.1311507208893445\n"
     ]
    }
   ],
   "source": [
    "# evaluating using rmse\n",
    "acc_w = accuracy.rmse(predictions_w)\n",
    "print(\"KNNWithMeans accuracy with pearson similarity\", acc_w)"
   ]
  },
  {
   "cell_type": "code",
   "execution_count": 84,
   "metadata": {},
   "outputs": [
    {
     "data": {
      "text/plain": [
       "[(1689, 8.185955655914997, 8.0),\n",
       " (11757, 8.133793956564796, 10.0),\n",
       " (22297, 8.129111100780923, 8.0),\n",
       " (29803, 8.09683673228961, 9.0),\n",
       " (226, 7.932489386205672, 10.0),\n",
       " (121, 7.899616069863907, 10.0),\n",
       " (31637, 7.848505622301062, 8.0),\n",
       " (31240, 7.777702863820456, 9.0),\n",
       " (12467, 7.6240801547629, 7.0),\n",
       " (208, 7.573456439868159, 10.0),\n",
       " (1606, 7.556275003576253, -1.0),\n",
       " (4063, 7.530312923809874, 8.0),\n",
       " (2404, 7.478362728406149, 8.0),\n",
       " (10793, 7.426424767748934, 7.0),\n",
       " (228, 7.425686665925512, 8.0),\n",
       " (23321, 7.372967932534988, -1.0),\n",
       " (16011, 7.357029596016721, 8.0),\n",
       " (26441, 7.332239135842783, 8.0),\n",
       " (2993, 7.226297796184229, 7.0),\n",
       " (9041, 7.200534816563825, 8.0)]"
      ]
     },
     "execution_count": 84,
     "metadata": {},
     "output_type": "execute_result"
    }
   ],
   "source": [
    "# getting top n predictions\n",
    "top_pred_knn_w = get_top_n(predictions_w,20)\n",
    "top_pred_knn_w[50877]"
   ]
  },
  {
   "cell_type": "markdown",
   "metadata": {},
   "source": [
    "##### Fitting model with KNNBaseline method"
   ]
  },
  {
   "cell_type": "code",
   "execution_count": 85,
   "metadata": {},
   "outputs": [
    {
     "name": "stdout",
     "output_type": "stream",
     "text": [
      "Estimating biases using als...\n",
      "Computing the pearson similarity matrix...\n",
      "Done computing similarity matrix.\n"
     ]
    },
    {
     "data": {
      "text/plain": [
       "<surprise.prediction_algorithms.knns.KNNBaseline at 0x1d9a078d0>"
      ]
     },
     "execution_count": 85,
     "metadata": {},
     "output_type": "execute_result"
    }
   ],
   "source": [
    "# fiting the KNNBaseline model on train data \n",
    "KBase_g = knns.KNNBaseline(sim_options=sim_upear)\n",
    "KBase_g.fit(train_n)"
   ]
  },
  {
   "cell_type": "code",
   "execution_count": 86,
   "metadata": {},
   "outputs": [],
   "source": [
    "# testing the above fitted model on test data set\n",
    "predictions_g = KBase_g.test(test_n)"
   ]
  },
  {
   "cell_type": "code",
   "execution_count": 87,
   "metadata": {},
   "outputs": [
    {
     "name": "stdout",
     "output_type": "stream",
     "text": [
      "RMSE: 2.1841\n",
      "KNNBaseline accuracy with pearson similarity 2.184094609838723\n"
     ]
    }
   ],
   "source": [
    "# evaluating using rmse\n",
    "acc_g = accuracy.rmse(predictions_g)\n",
    "print(\"KNNBaseline accuracy with pearson similarity\", acc_g)"
   ]
  },
  {
   "cell_type": "code",
   "execution_count": 88,
   "metadata": {},
   "outputs": [
    {
     "data": {
      "text/plain": [
       "[(22297, 8.038022333792064, 8.0),\n",
       " (11757, 7.988013013572221, 10.0),\n",
       " (1689, 7.984255245590775, 8.0),\n",
       " (29803, 7.944777423772969, 9.0),\n",
       " (121, 7.782817558427122, 10.0),\n",
       " (226, 7.776882264809551, 10.0),\n",
       " (31240, 7.744767491035818, 9.0),\n",
       " (31637, 7.698171699381683, 8.0),\n",
       " (1606, 7.391887034341589, -1.0),\n",
       " (10793, 7.351891480175933, 7.0),\n",
       " (4063, 7.339520003284427, 8.0),\n",
       " (2404, 7.334456443796467, 8.0),\n",
       " (208, 7.316272351293869, 10.0),\n",
       " (228, 7.299050576091365, 8.0),\n",
       " (12467, 7.292473129664023, 7.0),\n",
       " (23321, 7.189063274521082, -1.0),\n",
       " (26441, 7.15345045978229, 8.0),\n",
       " (16011, 7.0864580231448135, 8.0),\n",
       " (2993, 7.006731060975384, 7.0),\n",
       " (5958, 6.96823958324141, 7.0)]"
      ]
     },
     "execution_count": 88,
     "metadata": {},
     "output_type": "execute_result"
    }
   ],
   "source": [
    "# getting top n predictions\n",
    "top_pred_knn_g = get_top_n(predictions_g,20)\n",
    "top_pred_knn_g[50877]"
   ]
  },
  {
   "cell_type": "markdown",
   "metadata": {},
   "source": [
    "#### Conclusion: From the all the above twelve models,Item-based collaborative filtering performs well with pearson correlation as similarity metrics and RMSE value as 2.105. For item based the best KNN method was KNNBaseline. "
   ]
  },
  {
   "cell_type": "code",
   "execution_count": null,
   "metadata": {},
   "outputs": [],
   "source": []
  }
 ],
 "metadata": {
  "kernelspec": {
   "display_name": "python3env",
   "language": "python",
   "name": "python3env"
  },
  "language_info": {
   "codemirror_mode": {
    "name": "ipython",
    "version": 3
   },
   "file_extension": ".py",
   "mimetype": "text/x-python",
   "name": "python",
   "nbconvert_exporter": "python",
   "pygments_lexer": "ipython3",
   "version": "3.7.7"
  }
 },
 "nbformat": 4,
 "nbformat_minor": 4
}
